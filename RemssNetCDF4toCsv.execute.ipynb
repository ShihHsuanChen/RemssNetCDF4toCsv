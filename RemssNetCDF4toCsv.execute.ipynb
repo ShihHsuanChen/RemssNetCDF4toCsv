{
 "cells": [
  {
   "cell_type": "code",
   "execution_count": 48,
   "metadata": {},
   "outputs": [
    {
     "name": "stdout",
     "output_type": "stream",
     "text": [
      "usage: RemssNetCDF4toCsv.py [-h] [--target TARGET [TARGET ...]]\n",
      "                            [--lon_min LON_MIN] [--lon_max LON_MAX]\n",
      "                            [--lat_min LAT_MIN] [--lat_max LAT_MAX]\n",
      "                            input [input ...] output [output ...]\n",
      "\n",
      "Simply convert netCDF4 file to csv file.\n",
      "\n",
      "positional arguments:\n",
      "  input                 input file name\n",
      "  output                output file name\n",
      "\n",
      "optional arguments:\n",
      "  -h, --help            show this help message and exit\n",
      "  --target TARGET [TARGET ...]\n",
      "                        target variables\n",
      "  --lon_min LON_MIN     lower bound for longitude\n",
      "  --lon_max LON_MAX     upper bound for longitude\n",
      "  --lat_min LAT_MIN     lower bound for latitude\n",
      "  --lat_max LAT_MAX     upper bound for latitude\n"
     ]
    }
   ],
   "source": [
    "run -i RemssNetCDF4toCsv.py -h"
   ]
  },
  {
   "cell_type": "code",
   "execution_count": 50,
   "metadata": {},
   "outputs": [],
   "source": [
    "run -i RemssNetCDF4toCsv.py REMSS-L2P_GHRSST-SSTsubskin-TMI-L2b_20140819_20140830\\20140819002744-REMSS-L2P_GHRSST-SSTsubskin-TMI-L2b_v04_095451.dat-v02.0-fv01.0.nc REMSS-L2P_GHRSST-SSTsubskin-TMI-L2b_20140819_20140830\\testout.csv --lon_min 115 --lon_max 130 --lat_min 15 --lat_max 35"
   ]
  }
 ],
 "metadata": {
  "kernelspec": {
   "display_name": "Python 3",
   "language": "python",
   "name": "python3"
  },
  "language_info": {
   "codemirror_mode": {
    "name": "ipython",
    "version": 3
   },
   "file_extension": ".py",
   "mimetype": "text/x-python",
   "name": "python",
   "nbconvert_exporter": "python",
   "pygments_lexer": "ipython3",
   "version": "3.7.0"
  }
 },
 "nbformat": 4,
 "nbformat_minor": 2
}
